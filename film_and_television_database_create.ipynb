{
 "cells": [
  {
   "cell_type": "markdown",
   "id": "7e4a2b67",
   "metadata": {},
   "source": [
    "### 输入参数设置"
   ]
  },
  {
   "cell_type": "code",
   "execution_count": null,
   "id": "c141e44f",
   "metadata": {},
   "outputs": [],
   "source": [
    "db_path = './db/dbtest.db'                       #链接/新建数据库的地址\n",
    "input_video_path = './input_videos/test.mp4'     #输入视频文件的位置\n",
    "production_name = 'test'                         #输入视频所属作品的名称，例如《长风渡》\n",
    "video_episode = 3                                #输入视频是作品的第几集\n",
    "video_version = 'v1'                             #输入视频时该集的哪个版本，可以写“删减版、高清版等”"
   ]
  },
  {
   "cell_type": "code",
   "execution_count": null,
   "id": "0ca8d1f9",
   "metadata": {},
   "outputs": [],
   "source": [
    "# 引入自定义工具\n",
    "from myutils import myutils"
   ]
  },
  {
   "cell_type": "markdown",
   "id": "8f03b59e",
   "metadata": {},
   "source": [
    "### 数据库操作"
   ]
  },
  {
   "cell_type": "code",
   "execution_count": null,
   "id": "3613b446",
   "metadata": {},
   "outputs": [],
   "source": [
    "# 链接数据库并初始化，建立数据库对象\n",
    "myutils.initialiseDB(db_path)                    #初始化数据库\n",
    "db = myutils.DB(db_path)                         #建立数据库对象实例"
   ]
  },
  {
   "cell_type": "code",
   "execution_count": null,
   "id": "110aa2d3",
   "metadata": {},
   "outputs": [],
   "source": [
    "# 插入测试数据\n",
    "try:\n",
    "    db.insertData('productions',['production_id','production_name'],[('test_id','test')])\n",
    "    db.insertData('videos',['video_id','production_id','video_id_part','video_episode','video_version'],\\\n",
    "                  [('test_id_0xffff0001','test_id','0xffff0001',1,'v1'),\\\n",
    "                   ('test_id_0xffff0002','test_id','0xffff0002',2,'v1')])\n",
    "    db.commit()\n",
    "except:\n",
    "    pass\n",
    "db.close()"
   ]
  },
  {
   "cell_type": "markdown",
   "id": "b1b69916",
   "metadata": {},
   "source": [
    "### 视频操作"
   ]
  },
  {
   "cell_type": "code",
   "execution_count": null,
   "id": "8f00eeb2",
   "metadata": {},
   "outputs": [],
   "source": [
    "# 导入视频，建立视频对象实例，注意这个步骤计算时间长，因为要分析视频的镜头列表\n",
    "video = myutils.video(input_video_path)"
   ]
  },
  {
   "cell_type": "code",
   "execution_count": null,
   "id": "e70507b6",
   "metadata": {
    "scrolled": true
   },
   "outputs": [],
   "source": [
    "# 将视频拆分、提取关键帧，并将视频的信息导入数据库中\n",
    "video.video2DB(db_path, production_name, video_episode, video_version,\\\n",
    "               production_background_time='imaginary') \n",
    "#前面4个参数为必要参数，后面为可选参数**kwargs，参数名称需要是数据库表中的字段，提供手动信息值"
   ]
  }
 ],
 "metadata": {
  "kernelspec": {
   "display_name": "Python 3 (ipykernel)",
   "language": "python",
   "name": "python3"
  },
  "language_info": {
   "codemirror_mode": {
    "name": "ipython",
    "version": 3
   },
   "file_extension": ".py",
   "mimetype": "text/x-python",
   "name": "python",
   "nbconvert_exporter": "python",
   "pygments_lexer": "ipython3",
   "version": "3.7.12"
  }
 },
 "nbformat": 4,
 "nbformat_minor": 5
}
