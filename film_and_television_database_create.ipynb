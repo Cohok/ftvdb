{
 "cells": [
  {
   "cell_type": "markdown",
   "id": "0709e5e7",
   "metadata": {},
   "source": [
    "### 数据库操作"
   ]
  },
  {
   "cell_type": "code",
   "execution_count": null,
   "id": "666695eb",
   "metadata": {},
   "outputs": [],
   "source": [
    "# 引入自定义工具\n",
    "from myutils import myutils\n",
    "db_path = './db/ftvdb.db'                       #链接/新建数据库的地址"
   ]
  },
  {
   "cell_type": "code",
   "execution_count": null,
   "id": "3613b446",
   "metadata": {},
   "outputs": [],
   "source": [
    "# 建立数据库对象\n",
    "db = myutils.DB(db_path)                         #建立数据库对象实例\n",
    "db.initialiseDB()                                #初始化数据库"
   ]
  },
  {
   "cell_type": "markdown",
   "id": "4a0e2a1d",
   "metadata": {},
   "source": [
    "### 连续操作"
   ]
  },
  {
   "cell_type": "markdown",
   "id": "7d2577be",
   "metadata": {},
   "source": [
    "《长风渡》（已完成）"
   ]
  },
  {
   "cell_type": "code",
   "execution_count": null,
   "id": "439df074",
   "metadata": {
    "scrolled": true
   },
   "outputs": [],
   "source": [
    "# production_name = '长风渡'                                   #输入视频所属作品的名称，例如《长风渡》\n",
    "# production_category = '电视剧'                               #输入作品类型\n",
    "# video_version = 'v1'                                         #输入视频时该集的哪个版本，可以写“删减版、高清版等”\n",
    "# for i in range(22,41):\n",
    "#     video_episode = i                                                #输入视频是作品的第几集\n",
    "#     input_video_path = '../input_videos/长风渡/长风渡-%02d.mkv'%i     #输入视频文件的位置\n",
    "#     # 导入视频，建立视频对象实例\n",
    "#     video = myutils.DBVideo(db_path, input_video_path, production_category, production_name, video_episode, video_version,\\\n",
    "#                             production_background_time='虚构、古代', production_total_esipodes=40,\\\n",
    "#                             production_filming_time='2022年',production_release_time='2023-06-18',\\\n",
    "#                             production_background_place='虚构',production_novel_based=1, production_color=1,\\\n",
    "#                             production_plot_outline='讲述了自小受尽磨砺的扬州布商之女柳玉茹与当地著名纨绔顾九思阴差阳错结为夫妻性格迥异的两人在错位婚姻里从相互抵触到相互扶持相互治愈的暖心故事',\\\n",
    "#                             production_douban_average_user_rating=6.5)\n",
    "#     # 将视频拆分、提取关键帧，并将视频的信息导入数据库中\n",
    "#     #video.Video2DB('silent')\n",
    "#     video.Video2DB()"
   ]
  },
  {
   "cell_type": "markdown",
   "id": "89162771",
   "metadata": {},
   "source": [
    "《鹊刀门传奇》（已完成）"
   ]
  },
  {
   "cell_type": "code",
   "execution_count": null,
   "id": "22a1d69c",
   "metadata": {},
   "outputs": [],
   "source": [
    "# production_name = '鹊刀门传奇'                               #输入视频所属作品的名称\n",
    "# production_category = '电视剧'                               #输入作品类型\n",
    "# video_version = 'v1'                                         #输入视频时该集的哪个版本，可以写“删减版、高清版等”\n",
    "# for i in range(1,41):\n",
    "#     video_episode = i                                                       #输入视频是作品的第几集\n",
    "#     input_video_path = '../input_videos/鹊刀门传奇/鹊刀门传奇%02d.mkv'%i     #输入视频文件的位置\n",
    "#     # 导入视频，建立视频对象实例\n",
    "#     video = myutils.DBVideo(db_path, input_video_path, production_category, production_name, video_episode, video_version,\\\n",
    "#                             production_background_time='虚构、古代', production_total_esipodes=40,\\\n",
    "#                             production_filming_time='2022年',production_release_time='2023-08-18',\\\n",
    "#                             production_background_place='虚构',production_novel_based=0, production_color=1,\\\n",
    "#                             production_plot_outline='某朝末年，倭乱四起，宦官专权，东厂曹公公勾结倭寇，残害中原武林，意欲谋反。长海对外身份是鹊刀门掌门，实则是秘密抗倭组织成员，除了剿灭倭寇，另一项重要任务就是查出勾结倭寇的朝中汉奸。而同时曹公公也发现有反对自己的武林人士存在，暗中派人监视武林各门派的一举一动。因要掩人耳目，并同时进行秘密任务，西门长海找到远在家乡的孪生兄弟西门长在，让他，冒充自己。虽是孪生兄弟，西门长海和西门长在兄弟俩的个性和人生道路完全不同，弟弟是英雄虎胆的一代大侠，哥哥则是胆小懦弱的市井伙夫。面对弟弟的请求，胆小怕事的西门长在一万个不答应，奈何顶住了弟弟长海的威逼利诱，却顶不住弟弟许诺给他找个“老伴”的色诱，于是半推半就的同意冒名顶替。就这样，西门长在稀里糊涂的从一个掌勺摇身一变成为掌门，进入了光怪陆离的武侠世界。西门长在来到人生地不熟的鹊刀门，想要冒充弟弟，首先遇到的第一关，就是要骗过弟弟长海身边的几位亲人：呆傻木讷的大徒弟郝盟和性如烈火的叶四娘，鲁莽冲动的二徒弟赵德柱，当然最难的是弟弟的女儿西门柔。西门长在本来想低调蒙混过关，不料树欲静却风不止，各自风波接踵而来，天池帮帮主高大毛，五毒教教主等人纷纷找上门来，最危险的是，西门长在引起了东厂曹公公的注意和怀疑！',\\\n",
    "#                             production_douban_average_user_rating=8.1,\n",
    "#                             production_IMDb_average_user_rating=7.3)\n",
    "#     # 将视频拆分、提取关键帧，并将视频的信息导入数据库中\n",
    "#     #video.Video2DB('silent')\n",
    "#     video.Video2DB()"
   ]
  },
  {
   "cell_type": "markdown",
   "id": "9c5b92f1",
   "metadata": {},
   "source": [
    "《长相思》"
   ]
  },
  {
   "cell_type": "code",
   "execution_count": null,
   "id": "de95fa98",
   "metadata": {
    "scrolled": true
   },
   "outputs": [],
   "source": [
    "production_name = '长相思'                                   #输入视频所属作品的名称\n",
    "production_category = '电视剧'                               #输入作品类型\n",
    "video_version = 'v1'                                         #输入视频时该集的哪个版本，可以写“删减版、高清版等”\n",
    "for i in range(1,41):\n",
    "    video_episode = i                                                       #输入视频是作品的第几集\n",
    "    input_video_path = '../input_videos/长相思/长相思%02d.mkv'%i             #输入视频文件的位置\n",
    "    # 导入视频，建立视频对象实例\n",
    "    video = myutils.DBVideo(db_path, input_video_path, production_category, production_name, video_episode, video_version,\\\n",
    "                            production_other_name_1 = 'Lost You Forever',\\\n",
    "                            production_background_time='虚构、神话', production_total_esipodes=40,\\\n",
    "                            production_filming_time='2022年',production_release_time='2023-07-24',\\\n",
    "                            production_background_place='虚构、神话',production_novel_based=1, production_color=1,\\\n",
    "                            production_plot_outline='大荒内，人、神、妖混居，西炎、辰荣、皓翎三国鼎立。流落大荒的皓翎国王姬玖瑶（小夭）历经百年颠沛之苦，不但失去了身份，也失去了容貌，在清水镇落脚，成为了“无处可去、无人可依、无力自保”的玟小六。他悬壶为生恣意不羁。曾与小夭青梅竹马的西炎国王孙玱玹去了皓翎国做质子，即使寄人篱下、隐忍蛰伏，为了寻找小夭走遍大荒，来到清水镇。清水镇的日子平淡温馨，玟小六意外救了垂危的青丘公子涂山璟，朝夕相处中二人情愫渐生；玟小六又与九头妖相柳不打不相识，惺惺相惜结为知己。玟小六和玱玹相见不相识，几经波折，才终与玱玹相认，恢复王姬身份。为了一统天下，玱玹舍私情要王座，相柳守义战死、小夭帮助玱玹完成大业后，与涂山璟隐逸江湖。思而不得的玱玹将所有精力都放在了治理国家上，因为他知道，只要天下太平，他的小夭就能够幸福安康。',\\\n",
    "                            production_douban_average_user_rating=7.7,\n",
    "                            production_IMDb_average_user_rating=6.3)\n",
    "    # 将视频拆分、提取关键帧，并将视频的信息导入数据库中\n",
    "    #video.Video2DB('silent')\n",
    "    video.Video2DB()"
   ]
  },
  {
   "cell_type": "markdown",
   "id": "94410c05",
   "metadata": {},
   "source": [
    "《莲花楼》"
   ]
  },
  {
   "cell_type": "code",
   "execution_count": null,
   "id": "e49b419a",
   "metadata": {},
   "outputs": [],
   "source": [
    "production_name = '莲花楼'                                   #输入视频所属作品的名称\n",
    "production_category = '电视剧'                               #输入作品类型\n",
    "video_version = 'v1'                                         #输入视频时该集的哪个版本，可以写“删减版、高清版等”\n",
    "for i in range(1,41):\n",
    "    video_episode = i                                                       #输入视频是作品的第几集\n",
    "    input_video_path = '../input_videos/莲花楼/莲花楼%02d.mkv'%i             #输入视频文件的位置\n",
    "    # 导入视频，建立视频对象实例\n",
    "    video = myutils.DBVideo(db_path, input_video_path, production_category, production_name, video_episode, video_version,\\\n",
    "                            production_other_name_1 = 'Mysterious Lotus Casebook',\\\n",
    "                            production_background_time='虚构、神话', production_total_esipodes=40,\\\n",
    "                            production_filming_time='2022年',production_release_time='2023-07-21',\\\n",
    "                            production_background_place='虚构、神话',production_novel_based=1, production_color=1,\\\n",
    "                            production_plot_outline='李莲花从噩梦中醒来，往事已远。最近毒发越加频繁，无了大师算他最多再活十年，今年已是大限之年。只是必须寻到师兄下落，他要去一趟玉城。被抛下的方多病耿耿于怀，带着旺福和离儿追踪而去，落脚小棉客栈。方多病跨进大门，就看到了带着“狐狸精”在客栈大堂吃面的李莲花，顿时新仇旧怨上头，两人较起劲来。其他吃客说起流传在此的骷髅鬼故事，又骂起贴满了客栈大堂的寻人启事。此乃玉城城主的妹妹玉秋霜，不知因何离家出走了好几日，玉城的云娇姑娘带着护卫寻她到此。忽的一阵狂风大作，将大堂门窗砰砰吹开。鬼啊！众人哗然，正是画像上的玉秋霜！ 喧闹后，莲花话锋一转询问多病迟迟未归的丫鬟小厮。这时，正在楼上翻屋的旺福身后传来诡异的声响，一只骷髅手掐住了他的脖子——旺福死了，全身挂满了血，湿答答流了一地。被离儿惊叫声引来的围观众人被吓坏，皆呼鬼杀人了！方多病悲痛不已，咬牙要查明真相，而李莲花最为可疑！玉秋霜也不见了！方多病、李莲花和玉城护卫冲进镖头程云鹤房间，在密封的镖箱里找到了玉秋霜的尸体。护卫怒将所有人带回玉城。',\\\n",
    "                            production_douban_average_user_rating=8.4,\n",
    "                            production_IMDb_average_user_rating=8.1)\n",
    "    # 将视频拆分、提取关键帧，并将视频的信息导入数据库中\n",
    "    #video.Video2DB('silent')\n",
    "    video.Video2DB()"
   ]
  },
  {
   "cell_type": "markdown",
   "id": "044bdc83",
   "metadata": {},
   "source": [
    "《西出玉门》"
   ]
  },
  {
   "cell_type": "code",
   "execution_count": null,
   "id": "77a1680a",
   "metadata": {},
   "outputs": [],
   "source": [
    "production_name = '西出玉门'                                 #输入视频所属作品的名称\n",
    "production_category = '电视剧'                               #输入作品类型\n",
    "video_version = 'v1'                                         #输入视频时该集的哪个版本，可以写“删减版、高清版等”\n",
    "for i in range(1,41):\n",
    "    video_episode = i                                                       #输入视频是作品的第几集\n",
    "    input_video_path = '../input_videos/西出玉门/西出玉门%02d.mkv'%i             #输入视频文件的位置\n",
    "    # 导入视频，建立视频对象实例\n",
    "    video = myutils.DBVideo(db_path, input_video_path, production_category, production_name, video_episode, video_version,\\\n",
    "                            production_other_name_1 = 'West Out of the Yumen',\\\n",
    "                            production_background_time='20实际90年代', production_total_esipodes=38,\\\n",
    "                            production_filming_time='2022年',production_release_time='2023-09-07',\\\n",
    "                            production_background_place='中国，西安等地',production_novel_based=1, production_color=1,\\\n",
    "                            production_plot_outline='该剧根据尾鱼的同名小说改编。讲述了“沙漠玫瑰”叶流西与“智勇沙獠”昌东，一个为了解开身世之谜，一个为破解过往真相，两人联手深入奇幻世界探险的故事。',\\\n",
    "                            production_douban_average_user_rating=6.9,\n",
    "                            production_IMDb_average_user_rating=7.2)\n",
    "    # 将视频拆分、提取关键帧，并将视频的信息导入数据库中\n",
    "    #video.Video2DB('silent')\n",
    "    video.Video2DB()"
   ]
  },
  {
   "cell_type": "markdown",
   "id": "1dc2f194",
   "metadata": {},
   "source": [
    "《异人之下》"
   ]
  },
  {
   "cell_type": "code",
   "execution_count": null,
   "id": "97961205",
   "metadata": {},
   "outputs": [],
   "source": [
    "production_name = '异人之下'                                 #输入视频所属作品的名称\n",
    "production_category = '电视剧'                               #输入作品类型\n",
    "video_version = 'v1'                                         #输入视频时该集的哪个版本，可以写“删减版、高清版等”\n",
    "for i in range(1,41):\n",
    "    video_episode = i                                                       #输入视频是作品的第几集\n",
    "    input_video_path = '../input_videos/西出玉门/西出玉门%02d.mkv'%i             #输入视频文件的位置\n",
    "    # 导入视频，建立视频对象实例\n",
    "    video = myutils.DBVideo(db_path, input_video_path, production_category, production_name, video_episode, video_version,\\\n",
    "                            production_background_time='现代', production_total_esipodes=24,\\\n",
    "                            production_filming_time='2022年',production_release_time='2023-08-04',\\\n",
    "                            production_background_place='中国',production_novel_based=1, production_color=1,\\\n",
    "                            production_plot_outline='平凡少年张楚岚（彭昱畅 饰）因爷爷尸体的离奇失踪，被卷入前所未见的“异人”世界之中，面对“全性”突如其来的追杀、神秘少女冯宝宝（王影璐 饰）的突然闯入，张楚岚决心不再隐藏异能。随着对于爷爷前尘往事的追查，张楚岚渐渐融入了异人的江湖，而历史的谜团也逐渐浮现，在那背后似乎有个惊天的秘密，而冯宝宝的神秘身世似乎正是解开谜团的钥匙。面对着接踵而至的危机，少年异人们集结起来并建立了深厚的友谊和羁绊，在这条成长之路上，每个人都在寻找自己的道与义，一场光明与黑暗的对决蓄势待发……',\\\n",
    "                            production_douban_average_user_rating=8.1,\n",
    "                            production_IMDb_average_user_rating=7.5)\n",
    "    # 将视频拆分、提取关键帧，并将视频的信息导入数据库中\n",
    "    #video.Video2DB('silent')\n",
    "    video.Video2DB()"
   ]
  },
  {
   "cell_type": "markdown",
   "id": "cbebc28a",
   "metadata": {},
   "source": [
    "### 单视频操作"
   ]
  },
  {
   "cell_type": "code",
   "execution_count": null,
   "id": "5e9e1611",
   "metadata": {},
   "outputs": [],
   "source": [
    "# input_video_path = './input_videos/test.mp4'                 #输入视频文件的位置\n",
    "# production_name = '长风渡'                                   #输入视频所属作品的名称，例如《长风渡》\n",
    "# production_category = '电视剧'                               #输入作品类型\n",
    "# video_episode = 1                                            #输入视频是作品的第几集\n",
    "# video_version = 'v1'                                         #输入视频时该集的哪个版本，可以写“删减版、高清版等”\n",
    "# videos = myutils.DBVideo(db_path, input_video_path, production_category, production_name, video_episode, video_version,\\\n",
    "#                          production_background_time='虚构、古代',\\\n",
    "#                          production_total_esipodes=40, production_filming_time='2022年',\\\n",
    "#                          production_release_time='2023-06-18', production_background_place='虚构',\\\n",
    "#                          production_novel_based=1, production_color=1,\\\n",
    "#                          production_plot_outline='讲述了自小受尽磨砺的扬州布商之女柳玉茹与当地著名纨绔顾九思阴差阳错结为夫妻性格迥异的两人在错位婚姻里从相互抵触到相互扶持相互治愈的暖心故事',\\\n",
    "#                          production_douban_average_user_rating=6.5)\n",
    "# videos.checkAndVideo2DB()"
   ]
  }
 ],
 "metadata": {
  "kernelspec": {
   "display_name": "Python 3 (ipykernel)",
   "language": "python",
   "name": "python3"
  },
  "language_info": {
   "codemirror_mode": {
    "name": "ipython",
    "version": 3
   },
   "file_extension": ".py",
   "mimetype": "text/x-python",
   "name": "python",
   "nbconvert_exporter": "python",
   "pygments_lexer": "ipython3",
   "version": "3.7.12"
  }
 },
 "nbformat": 4,
 "nbformat_minor": 5
}
